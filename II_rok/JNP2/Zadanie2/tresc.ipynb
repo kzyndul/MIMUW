{
 "cells": [
  {
   "cell_type": "markdown",
   "id": "1945a4cd",
   "metadata": {},
   "source": [
    "### Zadanie domowe 2\n",
    "\n",
    "Proszę skonstruować klasyfikator oparty na regresji logistycznej dla danych dotyczących jakości odbitego sygnału radarowego przez jonosferę, gdzie dla każdego przykładu jakość odbitego sygnału jest opisana atrybutem nominalnym przyjmującym jedną z dwóch możliwych wartości: 'b'  (ang. bad) i 'g' (ang. good). Model powinien dokonywać predykcji jakości odbitego sygnału radarowego na podstawie wartości wszystkich 34 atrybutów ciągłych. \n",
    "\n",
    "Dokładny opis danych jest dostępny na stronie https://archive.ics.uci.edu/ml/datasets/ionosphere, zaś pliki z danymi są dostępne pod adresem https://archive.ics.uci.edu/ml/machine-learning-databases/ionosphere/. Dane znajdują się w pliku <a href=\"https://archive.ics.uci.edu/ml/machine-learning-databases/ionosphere/ionosphere.data\">ionosphere.data</a> a dokładne informacje o tym zbiorze danych są zapisane w pliku <a href=\"https://archive.ics.uci.edu/ml/machine-learning-databases/ionosphere/ionosphere.names\">ionosphere.names</a>.\n",
    "\n",
    "Do konstrukcji klasyfikatora należy użyć zbioru treningowego a do jego oceny zbioru testowego. Zbiory te powinny być utworzone przez podzielenie zbioru danych na części odpowiednio zawierające 80% i 20% wszystkich przykładów. Części te powinny charakteryzować się takim samym stosunkiem liczby obserwacji z klasy 'b' do liczby obserwacji z klasy 'g' co pełny zbiór danych. \n",
    "\n",
    "Rozwiązaniem powinien być plik .ipynb z kodem w Pythonie wczytującym dane, trenującym opisany klasyfikator i oceniającym jego możliwości predykcyjne. Ocena możliwości predykcyjnych skonstruowanego klasyfikatora powinna składać się z macierzy konfuzji (zwaną także macierzą błędów lub tablicą pomyłek, ang. *confusion matrix*), dokładności (ang. *accuracy score*), krzywej ROC oraz pola powierzchni AUC pod krzywą ROC obliczonych na podstawie danych testowych.  \n",
    "\n",
    "##### Dodatkowe wskazówki:\n",
    "\n",
    "1) Dane można wczytać z pliku za pomocą <a href=\"https://numpy.org/doc/stable/reference/generated/numpy.genfromtxt.html\">numpy.genfromtxt</a>.\n",
    "\n",
    "2) Klasy 'b' (bad) i 'g' (good) należy zastąpić wartościami liczbowymi odpowiednio 0 i 1. \n"
   ]
  },
  {
   "cell_type": "code",
   "execution_count": null,
   "id": "cf2e0bd1",
   "metadata": {},
   "outputs": [],
   "source": []
  }
 ],
 "metadata": {
  "kernelspec": {
   "display_name": "Python 3 (ipykernel)",
   "language": "python",
   "name": "python3"
  },
  "language_info": {
   "codemirror_mode": {
    "name": "ipython",
    "version": 3
   },
   "file_extension": ".py",
   "mimetype": "text/x-python",
   "name": "python",
   "nbconvert_exporter": "python",
   "pygments_lexer": "ipython3",
   "version": "3.9.16"
  }
 },
 "nbformat": 4,
 "nbformat_minor": 5
}
