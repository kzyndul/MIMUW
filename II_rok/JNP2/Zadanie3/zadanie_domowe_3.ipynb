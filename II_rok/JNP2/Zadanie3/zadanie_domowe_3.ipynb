{
 "cells": [
  {
   "cell_type": "markdown",
   "id": "59a9780d",
   "metadata": {},
   "source": [
    "### Zadanie domowe 3\n",
    "\n",
    "Proszę skonstruować klasyfikator oparty o głęboką sieć neuronową dla danych CIFAR-10. \n",
    "\n",
    "Do konstrukcji klasyfikatora należy użyć zbioru treningowego danych CIFAR-10 a zbioru testowego CIFAR-10 jako zbioru walidacyjnego do oceny dokładności aktualnego modelu po każdej epoce porcedury trenowania. \n",
    "\n",
    "Rozwiązaniem powinien być plik .ipynb z kodem w Pythonie wczytującym dane, dokonującym ewentualnych przekształceń danych, trenującym opisany klasyfikator i generującym wykresy dokładności modelu zarówno dla danych treningowych jak i walidacyjnych uzyskanych po każdej epoce trenowania. Procedura trenowania powinna wykorzystywać \"patient early stopping\" i zapisywać parametry najlepszego modelu do pliku. Po wytrenowaniu, zapisany model powinien zostać wczytany z zapisanego pliku i zastosowany do danych walidacyjnych celem obliczenia i wypisania dokładności osiągniętej dla tych danych.  \n",
    "\n",
    "Wytrenowany model powinnien osiągać dokładność na danych walidacyjnych wynoszącą co najmniej 70%.\n",
    "\n",
    "***Wskazówki:*** \n",
    "- Zastanowić się jaki powinien być \"input shape\".\n",
    "- Model powinien być głęboką siecią neuronową, jednak jej architektura jest pozostawiona Państwa inwencji.\n",
    "\n",
    "***Termin oddania***: 9 czerwca 2023 (za 3 tygodnie of daty umieszczenia na platformie Moodle)\n",
    "\n",
    "**Propozycja do rozważenia**\n",
    "\n",
    "Jeżeli Państwo się zgodzą, możemy zorganizować mały konkurs. Osoby chcące wziąć w nim udział będą dodatkowo proszone o zachowanie pliku .hd5 z jednym wytrenowanym modelem. Po ustaleniu jakiegoś dodatkowego terminu pasującego uszestnikom konkursu, komisyjnie wczytamy Państwa zapisane modele i uruchomimy na zbiorze testowym CIFAR-10. Zwycięskim modelem będzie ten, który osiągnie maksymalną dokładność na tym zbiorze danych. Nagrodą dla zwycięzcy(-ów) będą 3 dodatkowe punkty do oceny końcowej. Szczegóły ustalimy na następnych zajęciach."
   ]
  },
  {
   "cell_type": "code",
   "execution_count": null,
   "id": "764794ce",
   "metadata": {},
   "outputs": [],
   "source": []
  }
 ],
 "metadata": {
  "kernelspec": {
   "display_name": "Python 3 (ipykernel)",
   "language": "python",
   "name": "python3"
  },
  "language_info": {
   "codemirror_mode": {
    "name": "ipython",
    "version": 3
   },
   "file_extension": ".py",
   "mimetype": "text/x-python",
   "name": "python",
   "nbconvert_exporter": "python",
   "pygments_lexer": "ipython3",
   "version": "3.8.10"
  }
 },
 "nbformat": 4,
 "nbformat_minor": 5
}
