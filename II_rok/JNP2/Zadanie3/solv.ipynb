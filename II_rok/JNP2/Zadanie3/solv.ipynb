{
  "cells": [
    {
      "cell_type": "code",
      "execution_count": 45,
      "id": "f3996394",
      "metadata": {
        "scrolled": true,
        "id": "f3996394"
      },
      "outputs": [],
      "source": [
        "import tensorflow as tf\n",
        "\n",
        "import matplotlib.pyplot as plt\n",
        "\n",
        "%matplotlib inline"
      ]
    },
    {
      "cell_type": "code",
      "execution_count": 46,
      "id": "c4da96ca",
      "metadata": {
        "scrolled": true,
        "id": "c4da96ca"
      },
      "outputs": [],
      "source": [
        "(x_train, y_train), (x_test, y_test) = tf.keras.datasets.cifar10.load_data()"
      ]
    },
    {
      "cell_type": "code",
      "source": [
        "from sklearn.model_selection import train_test_split\n",
        "x_train, x_val, y_train, y_val = train_test_split(x_train, y_train, test_size=0.3, stratify=y_train)"
      ],
      "metadata": {
        "id": "L2iqD2URmoLb"
      },
      "id": "L2iqD2URmoLb",
      "execution_count": 47,
      "outputs": []
    },
    {
      "cell_type": "code",
      "execution_count": 48,
      "id": "e46869b6",
      "metadata": {
        "scrolled": true,
        "colab": {
          "base_uri": "https://localhost:8080/"
        },
        "id": "e46869b6",
        "outputId": "8a1c1a26-fc56-4ba8-85ce-478b65b47e30"
      },
      "outputs": [
        {
          "output_type": "stream",
          "name": "stdout",
          "text": [
            "Training set shape: (35000, 32, 32, 3) (35000, 1)\n",
            "Validation set shape: (15000, 32, 32, 3) (15000, 1)\n",
            "Test set shape: (10000, 32, 32, 3) (10000, 1)\n"
          ]
        }
      ],
      "source": [
        "print(\"Training set shape:\", x_train.shape, y_train.shape)\n",
        "print(\"Validation set shape:\", x_val.shape, y_val.shape)\n",
        "print(\"Test set shape:\", x_test.shape, y_test.shape)\n"
      ]
    },
    {
      "cell_type": "code",
      "execution_count": 49,
      "id": "a2c635fa",
      "metadata": {
        "scrolled": true,
        "id": "a2c635fa"
      },
      "outputs": [],
      "source": [
        "# Making sure that the values are float so that we can get decimal points after normalisation\n",
        "x_train = x_train.astype('float32')\n",
        "x_val = x_val.astype('float32')\n",
        "x_test = x_test.astype('float32')"
      ]
    },
    {
      "cell_type": "code",
      "execution_count": 50,
      "id": "bbbe331d",
      "metadata": {
        "scrolled": true,
        "id": "bbbe331d"
      },
      "outputs": [],
      "source": [
        "# Normalizing the RGB codes by dividing it to the max RGB value.\n",
        "x_train /= 255\n",
        "x_val /= 255\n",
        "x_test /= 255"
      ]
    },
    {
      "cell_type": "code",
      "execution_count": 51,
      "id": "686c111d",
      "metadata": {
        "id": "686c111d"
      },
      "outputs": [],
      "source": [
        "input_shape = (32, 32, 3)"
      ]
    },
    {
      "cell_type": "code",
      "execution_count": 59,
      "id": "29869e03",
      "metadata": {
        "scrolled": true,
        "id": "29869e03"
      },
      "outputs": [],
      "source": [
        "# Importing the required Keras modules containing model and layers\n",
        "from tensorflow.keras.models import Sequential\n",
        "from tensorflow.keras.layers import Dense, Conv2D, Dropout, Flatten, MaxPooling2D\n",
        "\n",
        "# Creating a Sequential Model and adding the layers\n",
        "model = Sequential()\n",
        "model.add(Conv2D(32, (3, 3), padding='same', activation='relu', input_shape=input_shape))\n",
        "model.add(Dropout(0.2))\n",
        "\n",
        "model.add(Conv2D(32,(3,3),padding='same', activation='relu'))\n",
        "model.add(MaxPooling2D(pool_size=(2,2)))\n",
        "\n",
        "model.add(Conv2D(64,(3,3),padding='same',activation='relu'))\n",
        "model.add(Dropout(0.2))\n",
        "\n",
        "model.add(Conv2D(64,(3,3),padding='same',activation='relu'))\n",
        "model.add(MaxPooling2D(pool_size=(2,2)))\n",
        "\n",
        "model.add(Flatten())\n",
        "model.add(Dropout(0.2))\n",
        "model.add(Dense(1024,activation='relu'))\n",
        "model.add(Dense(10, activation='softmax'))"
      ]
    },
    {
      "cell_type": "code",
      "execution_count": 60,
      "id": "6313dc5e",
      "metadata": {
        "colab": {
          "base_uri": "https://localhost:8080/"
        },
        "id": "6313dc5e",
        "outputId": "33cbdd01-8b0f-4521-9fa6-2a659216fd7e"
      },
      "outputs": [
        {
          "output_type": "stream",
          "name": "stdout",
          "text": [
            "Model: \"sequential_6\"\n",
            "_________________________________________________________________\n",
            " Layer (type)                Output Shape              Param #   \n",
            "=================================================================\n",
            " conv2d_15 (Conv2D)          (None, 32, 32, 32)        896       \n",
            "                                                                 \n",
            " dropout_9 (Dropout)         (None, 32, 32, 32)        0         \n",
            "                                                                 \n",
            " conv2d_16 (Conv2D)          (None, 32, 32, 32)        9248      \n",
            "                                                                 \n",
            " max_pooling2d_8 (MaxPooling  (None, 16, 16, 32)       0         \n",
            " 2D)                                                             \n",
            "                                                                 \n",
            " conv2d_17 (Conv2D)          (None, 16, 16, 64)        18496     \n",
            "                                                                 \n",
            " dropout_10 (Dropout)        (None, 16, 16, 64)        0         \n",
            "                                                                 \n",
            " conv2d_18 (Conv2D)          (None, 16, 16, 64)        36928     \n",
            "                                                                 \n",
            " max_pooling2d_9 (MaxPooling  (None, 8, 8, 64)         0         \n",
            " 2D)                                                             \n",
            "                                                                 \n",
            " flatten_6 (Flatten)         (None, 4096)              0         \n",
            "                                                                 \n",
            " dropout_11 (Dropout)        (None, 4096)              0         \n",
            "                                                                 \n",
            " dense_12 (Dense)            (None, 1024)              4195328   \n",
            "                                                                 \n",
            " dense_13 (Dense)            (None, 10)                10250     \n",
            "                                                                 \n",
            "=================================================================\n",
            "Total params: 4,271,146\n",
            "Trainable params: 4,271,146\n",
            "Non-trainable params: 0\n",
            "_________________________________________________________________\n"
          ]
        }
      ],
      "source": [
        "model.summary()"
      ]
    },
    {
      "cell_type": "code",
      "source": [
        "es = tf.keras.callbacks.EarlyStopping(monitor='val_loss', mode='min', verbose=1, patience=5)\n",
        "mc = tf.keras.callbacks.ModelCheckpoint('best_model.hdf5', monitor='val_accuracy', mode='max', verbose=1, save_best_only=True)"
      ],
      "metadata": {
        "id": "Cfs-ulVSpDuO"
      },
      "id": "Cfs-ulVSpDuO",
      "execution_count": 61,
      "outputs": []
    },
    {
      "cell_type": "code",
      "execution_count": 62,
      "id": "ddfe4352",
      "metadata": {
        "scrolled": true,
        "colab": {
          "base_uri": "https://localhost:8080/"
        },
        "id": "ddfe4352",
        "outputId": "4b0e46cb-e6de-4dd7-c6cd-b4486a1c763a"
      },
      "outputs": [
        {
          "output_type": "stream",
          "name": "stdout",
          "text": [
            "Epoch 1/10\n",
            "1091/1094 [============================>.] - ETA: 0s - loss: 1.5087 - accuracy: 0.4532\n",
            "Epoch 1: val_accuracy improved from -inf to 0.58487, saving model to best_model.hdf5\n",
            "1094/1094 [==============================] - 10s 8ms/step - loss: 1.5076 - accuracy: 0.4536 - val_loss: 1.1677 - val_accuracy: 0.5849\n",
            "Epoch 2/10\n",
            "1089/1094 [============================>.] - ETA: 0s - loss: 1.0734 - accuracy: 0.6166\n",
            "Epoch 2: val_accuracy improved from 0.58487 to 0.64760, saving model to best_model.hdf5\n",
            "1094/1094 [==============================] - 7s 7ms/step - loss: 1.0733 - accuracy: 0.6165 - val_loss: 0.9960 - val_accuracy: 0.6476\n",
            "Epoch 3/10\n",
            "1092/1094 [============================>.] - ETA: 0s - loss: 0.8655 - accuracy: 0.6909\n",
            "Epoch 3: val_accuracy improved from 0.64760 to 0.66927, saving model to best_model.hdf5\n",
            "1094/1094 [==============================] - 8s 7ms/step - loss: 0.8654 - accuracy: 0.6910 - val_loss: 0.9578 - val_accuracy: 0.6693\n",
            "Epoch 4/10\n",
            "1089/1094 [============================>.] - ETA: 0s - loss: 0.7132 - accuracy: 0.7474\n",
            "Epoch 4: val_accuracy improved from 0.66927 to 0.71207, saving model to best_model.hdf5\n",
            "1094/1094 [==============================] - 8s 7ms/step - loss: 0.7130 - accuracy: 0.7474 - val_loss: 0.8250 - val_accuracy: 0.7121\n",
            "Epoch 5/10\n",
            "1090/1094 [============================>.] - ETA: 0s - loss: 0.5671 - accuracy: 0.7986\n",
            "Epoch 5: val_accuracy improved from 0.71207 to 0.71513, saving model to best_model.hdf5\n",
            "1094/1094 [==============================] - 8s 7ms/step - loss: 0.5673 - accuracy: 0.7985 - val_loss: 0.8535 - val_accuracy: 0.7151\n",
            "Epoch 6/10\n",
            "1091/1094 [============================>.] - ETA: 0s - loss: 0.4430 - accuracy: 0.8431\n",
            "Epoch 6: val_accuracy improved from 0.71513 to 0.72413, saving model to best_model.hdf5\n",
            "1094/1094 [==============================] - 8s 7ms/step - loss: 0.4434 - accuracy: 0.8430 - val_loss: 0.8713 - val_accuracy: 0.7241\n",
            "Epoch 7/10\n",
            "1087/1094 [============================>.] - ETA: 0s - loss: 0.3410 - accuracy: 0.8801\n",
            "Epoch 7: val_accuracy improved from 0.72413 to 0.72713, saving model to best_model.hdf5\n",
            "1094/1094 [==============================] - 8s 7ms/step - loss: 0.3410 - accuracy: 0.8802 - val_loss: 0.8836 - val_accuracy: 0.7271\n",
            "Epoch 8/10\n",
            "1091/1094 [============================>.] - ETA: 0s - loss: 0.2719 - accuracy: 0.9043\n",
            "Epoch 8: val_accuracy improved from 0.72713 to 0.72833, saving model to best_model.hdf5\n",
            "1094/1094 [==============================] - 8s 7ms/step - loss: 0.2717 - accuracy: 0.9044 - val_loss: 1.0188 - val_accuracy: 0.7283\n",
            "Epoch 9/10\n",
            "1093/1094 [============================>.] - ETA: 0s - loss: 0.2267 - accuracy: 0.9211\n",
            "Epoch 9: val_accuracy did not improve from 0.72833\n",
            "1094/1094 [==============================] - 8s 7ms/step - loss: 0.2269 - accuracy: 0.9211 - val_loss: 1.1528 - val_accuracy: 0.7251\n",
            "Epoch 9: early stopping\n"
          ]
        }
      ],
      "source": [
        "model.compile(optimizer='adam', \n",
        "              loss='sparse_categorical_crossentropy',\n",
        "              metrics=['accuracy'])\n",
        "history = model.fit(x=x_train,\n",
        "                    y=y_train,\n",
        "                    epochs=10,\n",
        "                    verbose=1,\n",
        "                    callbacks=[es,mc],\n",
        "                    validation_data=(x_val, y_val))"
      ]
    },
    {
      "cell_type": "code",
      "source": [
        "fig, (ax1, ax2) = plt.subplots(1, 2, figsize=(12,4))\n",
        "\n",
        "# summarize history for accuracy\n",
        "ax1.plot(history.history['accuracy'])\n",
        "ax1.plot(history.history['val_accuracy'])\n",
        "ax1.set_title('model accuracy')\n",
        "ax1.set_ylabel('accuracy')\n",
        "ax1.set_xlabel('epoch')\n",
        "ax1.legend(['trainining dataset', 'validation dataset'], loc='upper left')\n",
        "# summarize history for loss\n",
        "ax2.plot(history.history['loss'])\n",
        "ax2.plot(history.history['val_loss'])\n",
        "ax2.set_title('model loss')\n",
        "ax2.set_ylabel('loss')\n",
        "ax2.set_xlabel('epoch')\n",
        "ax2.legend(['trainining dataset', 'validation dataset'], loc='upper left')\n",
        "\n",
        "plt.show()"
      ],
      "metadata": {
        "colab": {
          "base_uri": "https://localhost:8080/",
          "height": 410
        },
        "id": "k71XQPlHmB-7",
        "outputId": "af1f1d57-c182-4ffd-f378-5df9b4e010f8"
      },
      "id": "k71XQPlHmB-7",
      "execution_count": 63,
      "outputs": [
        {
          "output_type": "display_data",
          "data": {
            "text/plain": [
              "<Figure size 1200x400 with 2 Axes>"
            ],
            "image/png": "[encoded data removed]"
          },
          "metadata": {}
        }
      ]
    },
    {
      "cell_type": "code",
      "source": [
        "saved_model = tf.keras.models.load_model('best_model.hdf5')"
      ],
      "metadata": {
        "id": "Hmh27PRrpSOQ"
      },
      "id": "Hmh27PRrpSOQ",
      "execution_count": 64,
      "outputs": []
    },
    {
      "cell_type": "code",
      "execution_count": 66,
      "id": "30e622bc",
      "metadata": {
        "scrolled": true,
        "colab": {
          "base_uri": "https://localhost:8080/"
        },
        "id": "30e622bc",
        "outputId": "2770781b-78ae-4196-cb91-c7bc857f5034"
      },
      "outputs": [
        {
          "output_type": "stream",
          "name": "stdout",
          "text": [
            "313/313 [==============================] - 1s 3ms/step - loss: 1.0260 - accuracy: 0.7250\n",
            "Test Accuracy: 0.719\n"
          ]
        }
      ],
      "source": [
        "loss_val, acc_val = saved_model.evaluate(x_test, y_test, verbose=1)\n",
        "print('Test Accuracy: %.3f' % acc)\n"
      ]
    }
  ],
  "metadata": {
    "kernelspec": {
      "display_name": "Python 3 (ipykernel)",
      "language": "python",
      "name": "python3"
    },
    "language_info": {
      "codemirror_mode": {
        "name": "ipython",
        "version": 3
      },
      "file_extension": ".py",
      "mimetype": "text/x-python",
      "name": "python",
      "nbconvert_exporter": "python",
      "pygments_lexer": "ipython3",
      "version": "3.8.10"
    },
    "colab": {
      "provenance": [],
      "gpuType": "T4"
    },
    "gpuClass": "standard",
    "accelerator": "GPU"
  },
  "nbformat": 4,
  "nbformat_minor": 5
}