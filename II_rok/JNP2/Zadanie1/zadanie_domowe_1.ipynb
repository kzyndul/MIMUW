{
 "cells": [
  {
   "cell_type": "markdown",
   "id": "f054f649",
   "metadata": {},
   "source": [
    "Zadanie 1: Dane są następujące obserwacje pochodzące z dwóch grup (klas) etykietowanych elementami ze zbioru $\\mathcal{G} = \\{0,1\\}$:\n",
    "\n",
    "|  A  |  B  |  C  || Y |\n",
    "|-----|-----|-----||---|\n",
    "| 1.0 | 1.3 | 2.6 || 0 |\n",
    "| 2.2 | 1.1 | 1.2 || 1 |\n",
    "| 2.0 | 2.4 | 3.8 || 1 |\n",
    "| 1.5 | 3.2 | 2.1 || 0 |\n",
    "| 3.2 | 1.2 | 4.2 || 1 |\n",
    "\n",
    "A, B, C to zmienne (zwane także cechami lub atrybutami) a Y określa etykietę grupy, do której należy dana obserwacja. \n",
    "\n",
    "Rozważmy następujący model predykcyjny   \n",
    "\n",
    "$$M_\\mathbf{w}(x_0,x_1) = \\frac{1}{1+e^{-(w_0x_0+w_1x_1)}},$$\n",
    "\n",
    "gdzie $\\mathbf{w} = (w_0, w_1)$ to odpowienio wagi wejść $x_0$ i $x_1$ w dwóch przypadkach:\n",
    "* wejścia $x_0$ i $x_1$ to odpowiednio cechy A i B;\n",
    "* wejścia $x_0$ i $x_1$ to odpowiednio cechy B i C.\n",
    "\n",
    "Proszę napisać program w Pythonie, który oblicza błąd średniokwadratowy (ang. *Mean Squared Error*) powyższego modelu w obu przypadkach dla danych obserwacji. Program powininen wyliczać błędy dla wszystkich kombinacji wartości wag, gdzie $w_0 \\in [0, 0.1, 0.2, ..., 1]$ oraz $w_1 \\in [2, 2.1, 2.2, ..., 3]$. Dla każdego z dwóch przypadków wynikiem działania programu powinna być tablica 2D z wartościami błędu dla poszczególnych kombinacji wag oraz wykres błędu jako funkcji wag $w_0$, $w_1$. \n",
    "\n",
    "Błąd średniokwadratowy jest zadany ogólnym wzorem\n",
    "$$MSE = \\frac{1}{n}\\sum_{i=1}^{n}(y_i - \\hat y_i)^2,$$\n",
    "gdzie $y_i$ to rzeczywiste wartości z danych a $\\hat y_i$ to wartości przewidywane przez model.\n",
    "\n",
    "Proszę przesłać plik .py z kodem za pomocą platformy Moodle przed upływem wyznaczonego terminu."
   ]
  },
  {
   "cell_type": "code",
   "execution_count": null,
   "id": "ab0aca15",
   "metadata": {},
   "outputs": [],
   "source": [
    "import numpy as np\n",
    "\n"
   ]
  }
 ],
 "metadata": {
  "kernelspec": {
   "display_name": "Python 3 (ipykernel)",
   "language": "python",
   "name": "python3"
  },
  "language_info": {
   "codemirror_mode": {
    "name": "ipython",
    "version": 3
   },
   "file_extension": ".py",
   "mimetype": "text/x-python",
   "name": "python",
   "nbconvert_exporter": "python",
   "pygments_lexer": "ipython3",
   "version": "3.9.16"
  }
 },
 "nbformat": 4,
 "nbformat_minor": 5
}
